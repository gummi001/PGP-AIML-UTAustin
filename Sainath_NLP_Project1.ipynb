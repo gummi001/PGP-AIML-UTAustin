{
 "cells": [
  {
   "cell_type": "markdown",
   "id": "49e2796d",
   "metadata": {},
   "source": [
    "Part 1"
   ]
  },
  {
   "cell_type": "code",
   "execution_count": 2,
   "id": "4454f776",
   "metadata": {},
   "outputs": [],
   "source": [
    "import numpy as np\n",
    "import pandas as pd\n",
    "import re\n",
    "import nltk\n",
    "import warnings\n",
    "warnings.filterwarnings(\"ignore\")"
   ]
  },
  {
   "cell_type": "code",
   "execution_count": 3,
   "id": "a544b1f1",
   "metadata": {},
   "outputs": [],
   "source": [
    "data=pd.read_csv(\"Dataset+-+blogtext.csv\")"
   ]
  },
  {
   "cell_type": "code",
   "execution_count": 4,
   "id": "03f77d2c",
   "metadata": {},
   "outputs": [
    {
     "data": {
      "text/html": [
       "<div>\n",
       "<style scoped>\n",
       "    .dataframe tbody tr th:only-of-type {\n",
       "        vertical-align: middle;\n",
       "    }\n",
       "\n",
       "    .dataframe tbody tr th {\n",
       "        vertical-align: top;\n",
       "    }\n",
       "\n",
       "    .dataframe thead th {\n",
       "        text-align: right;\n",
       "    }\n",
       "</style>\n",
       "<table border=\"1\" class=\"dataframe\">\n",
       "  <thead>\n",
       "    <tr style=\"text-align: right;\">\n",
       "      <th></th>\n",
       "      <th>id</th>\n",
       "      <th>gender</th>\n",
       "      <th>age</th>\n",
       "      <th>topic</th>\n",
       "      <th>sign</th>\n",
       "      <th>date</th>\n",
       "      <th>text</th>\n",
       "    </tr>\n",
       "  </thead>\n",
       "  <tbody>\n",
       "    <tr>\n",
       "      <th>0</th>\n",
       "      <td>2059027</td>\n",
       "      <td>male</td>\n",
       "      <td>15</td>\n",
       "      <td>Student</td>\n",
       "      <td>Leo</td>\n",
       "      <td>14,May,2004</td>\n",
       "      <td>Info has been found (+/- 100 pages,...</td>\n",
       "    </tr>\n",
       "    <tr>\n",
       "      <th>1</th>\n",
       "      <td>2059027</td>\n",
       "      <td>male</td>\n",
       "      <td>15</td>\n",
       "      <td>Student</td>\n",
       "      <td>Leo</td>\n",
       "      <td>13,May,2004</td>\n",
       "      <td>These are the team members:   Drewe...</td>\n",
       "    </tr>\n",
       "    <tr>\n",
       "      <th>2</th>\n",
       "      <td>2059027</td>\n",
       "      <td>male</td>\n",
       "      <td>15</td>\n",
       "      <td>Student</td>\n",
       "      <td>Leo</td>\n",
       "      <td>12,May,2004</td>\n",
       "      <td>In het kader van kernfusie op aarde...</td>\n",
       "    </tr>\n",
       "    <tr>\n",
       "      <th>3</th>\n",
       "      <td>2059027</td>\n",
       "      <td>male</td>\n",
       "      <td>15</td>\n",
       "      <td>Student</td>\n",
       "      <td>Leo</td>\n",
       "      <td>12,May,2004</td>\n",
       "      <td>testing!!!  testing!!!</td>\n",
       "    </tr>\n",
       "    <tr>\n",
       "      <th>4</th>\n",
       "      <td>3581210</td>\n",
       "      <td>male</td>\n",
       "      <td>33</td>\n",
       "      <td>InvestmentBanking</td>\n",
       "      <td>Aquarius</td>\n",
       "      <td>11,June,2004</td>\n",
       "      <td>Thanks to Yahoo!'s Toolbar I can ...</td>\n",
       "    </tr>\n",
       "    <tr>\n",
       "      <th>5</th>\n",
       "      <td>3581210</td>\n",
       "      <td>male</td>\n",
       "      <td>33</td>\n",
       "      <td>InvestmentBanking</td>\n",
       "      <td>Aquarius</td>\n",
       "      <td>10,June,2004</td>\n",
       "      <td>I had an interesting conversation...</td>\n",
       "    </tr>\n",
       "    <tr>\n",
       "      <th>6</th>\n",
       "      <td>3581210</td>\n",
       "      <td>male</td>\n",
       "      <td>33</td>\n",
       "      <td>InvestmentBanking</td>\n",
       "      <td>Aquarius</td>\n",
       "      <td>10,June,2004</td>\n",
       "      <td>Somehow Coca-Cola has a way of su...</td>\n",
       "    </tr>\n",
       "    <tr>\n",
       "      <th>7</th>\n",
       "      <td>3581210</td>\n",
       "      <td>male</td>\n",
       "      <td>33</td>\n",
       "      <td>InvestmentBanking</td>\n",
       "      <td>Aquarius</td>\n",
       "      <td>10,June,2004</td>\n",
       "      <td>If anything, Korea is a country o...</td>\n",
       "    </tr>\n",
       "    <tr>\n",
       "      <th>8</th>\n",
       "      <td>3581210</td>\n",
       "      <td>male</td>\n",
       "      <td>33</td>\n",
       "      <td>InvestmentBanking</td>\n",
       "      <td>Aquarius</td>\n",
       "      <td>10,June,2004</td>\n",
       "      <td>Take a read of this news article ...</td>\n",
       "    </tr>\n",
       "    <tr>\n",
       "      <th>9</th>\n",
       "      <td>3581210</td>\n",
       "      <td>male</td>\n",
       "      <td>33</td>\n",
       "      <td>InvestmentBanking</td>\n",
       "      <td>Aquarius</td>\n",
       "      <td>09,June,2004</td>\n",
       "      <td>I surf the English news sites a l...</td>\n",
       "    </tr>\n",
       "  </tbody>\n",
       "</table>\n",
       "</div>"
      ],
      "text/plain": [
       "        id gender  age              topic      sign          date  \\\n",
       "0  2059027   male   15            Student       Leo   14,May,2004   \n",
       "1  2059027   male   15            Student       Leo   13,May,2004   \n",
       "2  2059027   male   15            Student       Leo   12,May,2004   \n",
       "3  2059027   male   15            Student       Leo   12,May,2004   \n",
       "4  3581210   male   33  InvestmentBanking  Aquarius  11,June,2004   \n",
       "5  3581210   male   33  InvestmentBanking  Aquarius  10,June,2004   \n",
       "6  3581210   male   33  InvestmentBanking  Aquarius  10,June,2004   \n",
       "7  3581210   male   33  InvestmentBanking  Aquarius  10,June,2004   \n",
       "8  3581210   male   33  InvestmentBanking  Aquarius  10,June,2004   \n",
       "9  3581210   male   33  InvestmentBanking  Aquarius  09,June,2004   \n",
       "\n",
       "                                                text  \n",
       "0             Info has been found (+/- 100 pages,...  \n",
       "1             These are the team members:   Drewe...  \n",
       "2             In het kader van kernfusie op aarde...  \n",
       "3                   testing!!!  testing!!!            \n",
       "4               Thanks to Yahoo!'s Toolbar I can ...  \n",
       "5               I had an interesting conversation...  \n",
       "6               Somehow Coca-Cola has a way of su...  \n",
       "7               If anything, Korea is a country o...  \n",
       "8               Take a read of this news article ...  \n",
       "9               I surf the English news sites a l...  "
      ]
     },
     "execution_count": 4,
     "metadata": {},
     "output_type": "execute_result"
    }
   ],
   "source": [
    "data.head(10)"
   ]
  },
  {
   "cell_type": "code",
   "execution_count": 5,
   "id": "bc31843f",
   "metadata": {},
   "outputs": [
    {
     "data": {
      "text/plain": [
       "id        False\n",
       "gender    False\n",
       "age       False\n",
       "topic     False\n",
       "sign      False\n",
       "date      False\n",
       "text      False\n",
       "dtype: bool"
      ]
     },
     "execution_count": 5,
     "metadata": {},
     "output_type": "execute_result"
    }
   ],
   "source": [
    "data.isna().any()"
   ]
  },
  {
   "cell_type": "code",
   "execution_count": 6,
   "id": "565dd635",
   "metadata": {},
   "outputs": [
    {
     "data": {
      "text/plain": [
       "(681284, 7)"
      ]
     },
     "execution_count": 6,
     "metadata": {},
     "output_type": "execute_result"
    }
   ],
   "source": [
    "data.shape"
   ]
  },
  {
   "cell_type": "code",
   "execution_count": 7,
   "id": "b2170af8",
   "metadata": {},
   "outputs": [],
   "source": [
    "data=data.head(10000)"
   ]
  },
  {
   "cell_type": "code",
   "execution_count": 8,
   "id": "f0c4cc27",
   "metadata": {},
   "outputs": [
    {
     "name": "stdout",
     "output_type": "stream",
     "text": [
      "<class 'pandas.core.frame.DataFrame'>\n",
      "RangeIndex: 10000 entries, 0 to 9999\n",
      "Data columns (total 7 columns):\n",
      " #   Column  Non-Null Count  Dtype \n",
      "---  ------  --------------  ----- \n",
      " 0   id      10000 non-null  int64 \n",
      " 1   gender  10000 non-null  object\n",
      " 2   age     10000 non-null  int64 \n",
      " 3   topic   10000 non-null  object\n",
      " 4   sign    10000 non-null  object\n",
      " 5   date    10000 non-null  object\n",
      " 6   text    10000 non-null  object\n",
      "dtypes: int64(2), object(5)\n",
      "memory usage: 547.0+ KB\n"
     ]
    }
   ],
   "source": [
    "data.info()"
   ]
  },
  {
   "cell_type": "code",
   "execution_count": 9,
   "id": "f003c55f",
   "metadata": {},
   "outputs": [],
   "source": [
    "data.drop(['id','date'], axis=1, inplace=True)"
   ]
  },
  {
   "cell_type": "code",
   "execution_count": 10,
   "id": "9d962c3c",
   "metadata": {},
   "outputs": [
    {
     "data": {
      "text/html": [
       "<div>\n",
       "<style scoped>\n",
       "    .dataframe tbody tr th:only-of-type {\n",
       "        vertical-align: middle;\n",
       "    }\n",
       "\n",
       "    .dataframe tbody tr th {\n",
       "        vertical-align: top;\n",
       "    }\n",
       "\n",
       "    .dataframe thead th {\n",
       "        text-align: right;\n",
       "    }\n",
       "</style>\n",
       "<table border=\"1\" class=\"dataframe\">\n",
       "  <thead>\n",
       "    <tr style=\"text-align: right;\">\n",
       "      <th></th>\n",
       "      <th>gender</th>\n",
       "      <th>age</th>\n",
       "      <th>topic</th>\n",
       "      <th>sign</th>\n",
       "      <th>text</th>\n",
       "    </tr>\n",
       "  </thead>\n",
       "  <tbody>\n",
       "    <tr>\n",
       "      <th>0</th>\n",
       "      <td>male</td>\n",
       "      <td>15</td>\n",
       "      <td>Student</td>\n",
       "      <td>Leo</td>\n",
       "      <td>Info has been found (+/- 100 pages,...</td>\n",
       "    </tr>\n",
       "    <tr>\n",
       "      <th>1</th>\n",
       "      <td>male</td>\n",
       "      <td>15</td>\n",
       "      <td>Student</td>\n",
       "      <td>Leo</td>\n",
       "      <td>These are the team members:   Drewe...</td>\n",
       "    </tr>\n",
       "    <tr>\n",
       "      <th>2</th>\n",
       "      <td>male</td>\n",
       "      <td>15</td>\n",
       "      <td>Student</td>\n",
       "      <td>Leo</td>\n",
       "      <td>In het kader van kernfusie op aarde...</td>\n",
       "    </tr>\n",
       "    <tr>\n",
       "      <th>3</th>\n",
       "      <td>male</td>\n",
       "      <td>15</td>\n",
       "      <td>Student</td>\n",
       "      <td>Leo</td>\n",
       "      <td>testing!!!  testing!!!</td>\n",
       "    </tr>\n",
       "    <tr>\n",
       "      <th>4</th>\n",
       "      <td>male</td>\n",
       "      <td>33</td>\n",
       "      <td>InvestmentBanking</td>\n",
       "      <td>Aquarius</td>\n",
       "      <td>Thanks to Yahoo!'s Toolbar I can ...</td>\n",
       "    </tr>\n",
       "  </tbody>\n",
       "</table>\n",
       "</div>"
      ],
      "text/plain": [
       "  gender  age              topic      sign  \\\n",
       "0   male   15            Student       Leo   \n",
       "1   male   15            Student       Leo   \n",
       "2   male   15            Student       Leo   \n",
       "3   male   15            Student       Leo   \n",
       "4   male   33  InvestmentBanking  Aquarius   \n",
       "\n",
       "                                                text  \n",
       "0             Info has been found (+/- 100 pages,...  \n",
       "1             These are the team members:   Drewe...  \n",
       "2             In het kader van kernfusie op aarde...  \n",
       "3                   testing!!!  testing!!!            \n",
       "4               Thanks to Yahoo!'s Toolbar I can ...  "
      ]
     },
     "execution_count": 10,
     "metadata": {},
     "output_type": "execute_result"
    }
   ],
   "source": [
    "data.head()"
   ]
  },
  {
   "cell_type": "code",
   "execution_count": 11,
   "id": "f56db7e8",
   "metadata": {},
   "outputs": [],
   "source": [
    "data['age']=data['age'].astype('object')"
   ]
  },
  {
   "cell_type": "code",
   "execution_count": 12,
   "id": "5bac6633",
   "metadata": {
    "scrolled": true
   },
   "outputs": [
    {
     "name": "stdout",
     "output_type": "stream",
     "text": [
      "<class 'pandas.core.frame.DataFrame'>\n",
      "RangeIndex: 10000 entries, 0 to 9999\n",
      "Data columns (total 5 columns):\n",
      " #   Column  Non-Null Count  Dtype \n",
      "---  ------  --------------  ----- \n",
      " 0   gender  10000 non-null  object\n",
      " 1   age     10000 non-null  object\n",
      " 2   topic   10000 non-null  object\n",
      " 3   sign    10000 non-null  object\n",
      " 4   text    10000 non-null  object\n",
      "dtypes: object(5)\n",
      "memory usage: 390.8+ KB\n"
     ]
    }
   ],
   "source": [
    "data.info()\n"
   ]
  },
  {
   "cell_type": "code",
   "execution_count": 13,
   "id": "0c409fdd",
   "metadata": {},
   "outputs": [],
   "source": [
    "data['clean_data']=data['text'].apply(lambda x: re.sub(r'[^A-Za-z]+',' ',x))"
   ]
  },
  {
   "cell_type": "code",
   "execution_count": 14,
   "id": "7dfe1821",
   "metadata": {},
   "outputs": [],
   "source": [
    "data['clean_data']=data['clean_data'].apply(lambda x: x.lower())"
   ]
  },
  {
   "cell_type": "code",
   "execution_count": 15,
   "id": "9030e2cf",
   "metadata": {},
   "outputs": [],
   "source": [
    "data['clean_data']=data['clean_data'].apply(lambda x: x.strip())"
   ]
  },
  {
   "cell_type": "code",
   "execution_count": 16,
   "id": "9dfeffbe",
   "metadata": {},
   "outputs": [
    {
     "name": "stdout",
     "output_type": "stream",
     "text": [
      "Actual data=======>            These are the team members:   Drewes van der Laag           urlLink mail  Ruiyu Xie                     urlLink mail  Bryan Aaldering (me)          urlLink mail          \n"
     ]
    }
   ],
   "source": [
    "print(\"Actual data=======> {}\".format(data['text'][1]))"
   ]
  },
  {
   "cell_type": "code",
   "execution_count": 17,
   "id": "fda60e79",
   "metadata": {},
   "outputs": [
    {
     "name": "stdout",
     "output_type": "stream",
     "text": [
      "Cleaned data=======> these are the team members drewes van der laag urllink mail ruiyu xie urllink mail bryan aaldering me urllink mail\n"
     ]
    }
   ],
   "source": [
    "print(\"Cleaned data=======> {}\".format(data['clean_data'][1]))"
   ]
  },
  {
   "cell_type": "code",
   "execution_count": 19,
   "id": "12cdea3d",
   "metadata": {},
   "outputs": [
    {
     "name": "stderr",
     "output_type": "stream",
     "text": [
      "[nltk_data] Downloading package stopwords to\n",
      "[nltk_data]     C:\\Users\\Admin\\AppData\\Roaming\\nltk_data...\n",
      "[nltk_data]   Unzipping corpora\\stopwords.zip.\n"
     ]
    },
    {
     "data": {
      "text/plain": [
       "True"
      ]
     },
     "execution_count": 19,
     "metadata": {},
     "output_type": "execute_result"
    }
   ],
   "source": [
    "import nltk\n",
    "nltk.download('stopwords')"
   ]
  },
  {
   "cell_type": "code",
   "execution_count": 20,
   "id": "4b296a16",
   "metadata": {},
   "outputs": [],
   "source": [
    "from nltk.corpus import stopwords\n",
    "stopwords=set(stopwords.words('english'))"
   ]
  },
  {
   "cell_type": "code",
   "execution_count": 21,
   "id": "045d1b90",
   "metadata": {},
   "outputs": [],
   "source": [
    "data['clean_data']=data['clean_data'].apply(lambda x: ' '.join([words for words in x.split() if words not in stopwords]))"
   ]
  },
  {
   "cell_type": "code",
   "execution_count": 23,
   "id": "5c44a561",
   "metadata": {},
   "outputs": [
    {
     "data": {
      "text/plain": [
       "'anything korea country extremes everything seems fad based think may come korea history invaded reported times years time got independence imagine move quickly get next level next war occupation lately well really lately japanese occupation ended korean war occurred turmoil park chung hee took dictator president elections everyone encouraged vote still dictator assassination next leaders basically ilk president park amazing things time however took incredibly backward country set road industrialization japan stripped korea resources people even language culture many buildings palaces razed japanese official language president park determined change orchestrated han river miracle han river hangang main river seoul korea korea made terrific strides expense civil liberties fastforward present point see korea world wired nation canada finland way beyond u craze pc pc bangs rooms everywhere country well instead playstation like games players go computer one two people korean gamers always communal types play online games hundreds thousands others typical korean fashion gamers left seat second could pause game fact may eliminated pcbang owners sold drinks ramen nooodles junk clientele matter time someone died related urllink article yes someone died pc people thought sleeping imagine long really checked alas first known casulty net korea maybe world korea built extremes good bad'"
      ]
     },
     "execution_count": 23,
     "metadata": {},
     "output_type": "execute_result"
    }
   ],
   "source": [
    "data['clean_data'][7]"
   ]
  },
  {
   "cell_type": "code",
   "execution_count": 24,
   "id": "86d520df",
   "metadata": {},
   "outputs": [],
   "source": [
    "data['labels']=data.apply(lambda col: [col['gender'],str(col['age']),col['topic'],col['sign']], axis=1)"
   ]
  },
  {
   "cell_type": "code",
   "execution_count": 25,
   "id": "13447924",
   "metadata": {},
   "outputs": [
    {
     "data": {
      "text/html": [
       "<div>\n",
       "<style scoped>\n",
       "    .dataframe tbody tr th:only-of-type {\n",
       "        vertical-align: middle;\n",
       "    }\n",
       "\n",
       "    .dataframe tbody tr th {\n",
       "        vertical-align: top;\n",
       "    }\n",
       "\n",
       "    .dataframe thead th {\n",
       "        text-align: right;\n",
       "    }\n",
       "</style>\n",
       "<table border=\"1\" class=\"dataframe\">\n",
       "  <thead>\n",
       "    <tr style=\"text-align: right;\">\n",
       "      <th></th>\n",
       "      <th>gender</th>\n",
       "      <th>age</th>\n",
       "      <th>topic</th>\n",
       "      <th>sign</th>\n",
       "      <th>text</th>\n",
       "      <th>clean_data</th>\n",
       "      <th>labels</th>\n",
       "    </tr>\n",
       "  </thead>\n",
       "  <tbody>\n",
       "    <tr>\n",
       "      <th>0</th>\n",
       "      <td>male</td>\n",
       "      <td>15</td>\n",
       "      <td>Student</td>\n",
       "      <td>Leo</td>\n",
       "      <td>Info has been found (+/- 100 pages,...</td>\n",
       "      <td>info found pages mb pdf files wait untill team...</td>\n",
       "      <td>[male, 15, Student, Leo]</td>\n",
       "    </tr>\n",
       "    <tr>\n",
       "      <th>1</th>\n",
       "      <td>male</td>\n",
       "      <td>15</td>\n",
       "      <td>Student</td>\n",
       "      <td>Leo</td>\n",
       "      <td>These are the team members:   Drewe...</td>\n",
       "      <td>team members drewes van der laag urllink mail ...</td>\n",
       "      <td>[male, 15, Student, Leo]</td>\n",
       "    </tr>\n",
       "    <tr>\n",
       "      <th>2</th>\n",
       "      <td>male</td>\n",
       "      <td>15</td>\n",
       "      <td>Student</td>\n",
       "      <td>Leo</td>\n",
       "      <td>In het kader van kernfusie op aarde...</td>\n",
       "      <td>het kader van kernfusie op aarde maak je eigen...</td>\n",
       "      <td>[male, 15, Student, Leo]</td>\n",
       "    </tr>\n",
       "    <tr>\n",
       "      <th>3</th>\n",
       "      <td>male</td>\n",
       "      <td>15</td>\n",
       "      <td>Student</td>\n",
       "      <td>Leo</td>\n",
       "      <td>testing!!!  testing!!!</td>\n",
       "      <td>testing testing</td>\n",
       "      <td>[male, 15, Student, Leo]</td>\n",
       "    </tr>\n",
       "    <tr>\n",
       "      <th>4</th>\n",
       "      <td>male</td>\n",
       "      <td>33</td>\n",
       "      <td>InvestmentBanking</td>\n",
       "      <td>Aquarius</td>\n",
       "      <td>Thanks to Yahoo!'s Toolbar I can ...</td>\n",
       "      <td>thanks yahoo toolbar capture urls popups means...</td>\n",
       "      <td>[male, 33, InvestmentBanking, Aquarius]</td>\n",
       "    </tr>\n",
       "  </tbody>\n",
       "</table>\n",
       "</div>"
      ],
      "text/plain": [
       "  gender age              topic      sign  \\\n",
       "0   male  15            Student       Leo   \n",
       "1   male  15            Student       Leo   \n",
       "2   male  15            Student       Leo   \n",
       "3   male  15            Student       Leo   \n",
       "4   male  33  InvestmentBanking  Aquarius   \n",
       "\n",
       "                                                text  \\\n",
       "0             Info has been found (+/- 100 pages,...   \n",
       "1             These are the team members:   Drewe...   \n",
       "2             In het kader van kernfusie op aarde...   \n",
       "3                   testing!!!  testing!!!             \n",
       "4               Thanks to Yahoo!'s Toolbar I can ...   \n",
       "\n",
       "                                          clean_data  \\\n",
       "0  info found pages mb pdf files wait untill team...   \n",
       "1  team members drewes van der laag urllink mail ...   \n",
       "2  het kader van kernfusie op aarde maak je eigen...   \n",
       "3                                    testing testing   \n",
       "4  thanks yahoo toolbar capture urls popups means...   \n",
       "\n",
       "                                    labels  \n",
       "0                 [male, 15, Student, Leo]  \n",
       "1                 [male, 15, Student, Leo]  \n",
       "2                 [male, 15, Student, Leo]  \n",
       "3                 [male, 15, Student, Leo]  \n",
       "4  [male, 33, InvestmentBanking, Aquarius]  "
      ]
     },
     "execution_count": 25,
     "metadata": {},
     "output_type": "execute_result"
    }
   ],
   "source": [
    "data.head()"
   ]
  },
  {
   "cell_type": "code",
   "execution_count": 26,
   "id": "be4e1337",
   "metadata": {},
   "outputs": [],
   "source": [
    "data=data[['clean_data','labels']]"
   ]
  },
  {
   "cell_type": "code",
   "execution_count": 27,
   "id": "4b050604",
   "metadata": {},
   "outputs": [
    {
     "data": {
      "text/html": [
       "<div>\n",
       "<style scoped>\n",
       "    .dataframe tbody tr th:only-of-type {\n",
       "        vertical-align: middle;\n",
       "    }\n",
       "\n",
       "    .dataframe tbody tr th {\n",
       "        vertical-align: top;\n",
       "    }\n",
       "\n",
       "    .dataframe thead th {\n",
       "        text-align: right;\n",
       "    }\n",
       "</style>\n",
       "<table border=\"1\" class=\"dataframe\">\n",
       "  <thead>\n",
       "    <tr style=\"text-align: right;\">\n",
       "      <th></th>\n",
       "      <th>clean_data</th>\n",
       "      <th>labels</th>\n",
       "    </tr>\n",
       "  </thead>\n",
       "  <tbody>\n",
       "    <tr>\n",
       "      <th>0</th>\n",
       "      <td>info found pages mb pdf files wait untill team...</td>\n",
       "      <td>[male, 15, Student, Leo]</td>\n",
       "    </tr>\n",
       "    <tr>\n",
       "      <th>1</th>\n",
       "      <td>team members drewes van der laag urllink mail ...</td>\n",
       "      <td>[male, 15, Student, Leo]</td>\n",
       "    </tr>\n",
       "    <tr>\n",
       "      <th>2</th>\n",
       "      <td>het kader van kernfusie op aarde maak je eigen...</td>\n",
       "      <td>[male, 15, Student, Leo]</td>\n",
       "    </tr>\n",
       "    <tr>\n",
       "      <th>3</th>\n",
       "      <td>testing testing</td>\n",
       "      <td>[male, 15, Student, Leo]</td>\n",
       "    </tr>\n",
       "    <tr>\n",
       "      <th>4</th>\n",
       "      <td>thanks yahoo toolbar capture urls popups means...</td>\n",
       "      <td>[male, 33, InvestmentBanking, Aquarius]</td>\n",
       "    </tr>\n",
       "  </tbody>\n",
       "</table>\n",
       "</div>"
      ],
      "text/plain": [
       "                                          clean_data  \\\n",
       "0  info found pages mb pdf files wait untill team...   \n",
       "1  team members drewes van der laag urllink mail ...   \n",
       "2  het kader van kernfusie op aarde maak je eigen...   \n",
       "3                                    testing testing   \n",
       "4  thanks yahoo toolbar capture urls popups means...   \n",
       "\n",
       "                                    labels  \n",
       "0                 [male, 15, Student, Leo]  \n",
       "1                 [male, 15, Student, Leo]  \n",
       "2                 [male, 15, Student, Leo]  \n",
       "3                 [male, 15, Student, Leo]  \n",
       "4  [male, 33, InvestmentBanking, Aquarius]  "
      ]
     },
     "execution_count": 27,
     "metadata": {},
     "output_type": "execute_result"
    }
   ],
   "source": [
    "data.head()"
   ]
  },
  {
   "cell_type": "code",
   "execution_count": 49,
   "id": "4a6ec206",
   "metadata": {},
   "outputs": [
    {
     "data": {
      "text/plain": [
       "(10000, 2)"
      ]
     },
     "execution_count": 49,
     "metadata": {},
     "output_type": "execute_result"
    }
   ],
   "source": [
    "data.shape"
   ]
  },
  {
   "cell_type": "code",
   "execution_count": 28,
   "id": "48d107be",
   "metadata": {},
   "outputs": [],
   "source": [
    "X=data['clean_data']\n",
    "Y=data['labels']"
   ]
  },
  {
   "cell_type": "code",
   "execution_count": 29,
   "id": "094269ec",
   "metadata": {},
   "outputs": [],
   "source": [
    "from sklearn.feature_extraction.text import CountVectorizer"
   ]
  },
  {
   "cell_type": "code",
   "execution_count": 30,
   "id": "cadeef19",
   "metadata": {},
   "outputs": [],
   "source": [
    "vectorizer=CountVectorizer(binary=True, ngram_range=(1,2))"
   ]
  },
  {
   "cell_type": "code",
   "execution_count": 31,
   "id": "414b3998",
   "metadata": {},
   "outputs": [],
   "source": [
    "X=vectorizer.fit_transform(X)"
   ]
  },
  {
   "cell_type": "code",
   "execution_count": 32,
   "id": "1247969b",
   "metadata": {},
   "outputs": [
    {
     "data": {
      "text/plain": [
       "<1x643302 sparse matrix of type '<class 'numpy.int64'>'\n",
       "\twith 25 stored elements in Compressed Sparse Row format>"
      ]
     },
     "execution_count": 32,
     "metadata": {},
     "output_type": "execute_result"
    }
   ],
   "source": [
    "X[1]"
   ]
  },
  {
   "cell_type": "code",
   "execution_count": 33,
   "id": "ce21421f",
   "metadata": {},
   "outputs": [
    {
     "data": {
      "text/plain": [
       "['aa', 'aa amazing', 'aa anger', 'aa compared', 'aa keeps']"
      ]
     },
     "execution_count": 33,
     "metadata": {},
     "output_type": "execute_result"
    }
   ],
   "source": [
    "vectorizer.get_feature_names()[:5]"
   ]
  },
  {
   "cell_type": "code",
   "execution_count": 34,
   "id": "fbe68513",
   "metadata": {},
   "outputs": [],
   "source": [
    "label_counts=dict()\n",
    "\n",
    "for labels in data.labels.values:\n",
    "    for label in labels:\n",
    "        if label in label_counts:\n",
    "            label_counts[label]+=1\n",
    "        else:\n",
    "            label_counts[label]=1"
   ]
  },
  {
   "cell_type": "code",
   "execution_count": 35,
   "id": "c6acef53",
   "metadata": {},
   "outputs": [
    {
     "data": {
      "text/plain": [
       "{'male': 5916,\n",
       " '15': 602,\n",
       " 'Student': 1137,\n",
       " 'Leo': 301,\n",
       " '33': 136,\n",
       " 'InvestmentBanking': 70,\n",
       " 'Aquarius': 571,\n",
       " 'female': 4084,\n",
       " '14': 212,\n",
       " 'indUnk': 3287,\n",
       " 'Aries': 4198,\n",
       " '25': 386,\n",
       " 'Capricorn': 215,\n",
       " '17': 1185,\n",
       " 'Gemini': 150,\n",
       " '23': 253,\n",
       " 'Non-Profit': 71,\n",
       " 'Cancer': 504,\n",
       " 'Banking': 16,\n",
       " '37': 33,\n",
       " 'Sagittarius': 1097,\n",
       " '26': 234,\n",
       " '24': 655,\n",
       " 'Scorpio': 971,\n",
       " '27': 1054,\n",
       " 'Education': 270,\n",
       " '45': 16,\n",
       " 'Engineering': 127,\n",
       " 'Libra': 491,\n",
       " 'Science': 63,\n",
       " '34': 553,\n",
       " '41': 20,\n",
       " 'Communications-Media': 99,\n",
       " 'BusinessServices': 91,\n",
       " 'Sports-Recreation': 80,\n",
       " 'Virgo': 236,\n",
       " 'Taurus': 812,\n",
       " 'Arts': 45,\n",
       " 'Pisces': 454,\n",
       " '44': 3,\n",
       " '16': 440,\n",
       " 'Internet': 118,\n",
       " 'Museums-Libraries': 17,\n",
       " 'Accounting': 4,\n",
       " '39': 79,\n",
       " '35': 2315,\n",
       " 'Technology': 2654,\n",
       " '36': 1708,\n",
       " 'Law': 11,\n",
       " '46': 7,\n",
       " 'Consulting': 21,\n",
       " 'Automotive': 14,\n",
       " '42': 14,\n",
       " 'Religion': 9,\n",
       " '13': 42,\n",
       " 'Fashion': 1622,\n",
       " '38': 46,\n",
       " '43': 6,\n",
       " 'Publishing': 4,\n",
       " '40': 1,\n",
       " 'Marketing': 156,\n",
       " 'LawEnforcement-Security': 10,\n",
       " 'HumanResources': 2,\n",
       " 'Telecommunications': 2}"
      ]
     },
     "execution_count": 35,
     "metadata": {},
     "output_type": "execute_result"
    }
   ],
   "source": [
    "label_counts\n"
   ]
  },
  {
   "cell_type": "code",
   "execution_count": 36,
   "id": "b6bfc881",
   "metadata": {},
   "outputs": [],
   "source": [
    "from sklearn.preprocessing import MultiLabelBinarizer\n",
    "binarizer=MultiLabelBinarizer(classes=sorted(label_counts.keys()))"
   ]
  },
  {
   "cell_type": "code",
   "execution_count": 37,
   "id": "9ba040b4",
   "metadata": {},
   "outputs": [],
   "source": [
    "Y=binarizer.fit_transform(data.labels)\n"
   ]
  },
  {
   "cell_type": "code",
   "execution_count": 38,
   "id": "000f1878",
   "metadata": {},
   "outputs": [],
   "source": [
    "from sklearn.model_selection import train_test_split\n"
   ]
  },
  {
   "cell_type": "code",
   "execution_count": 39,
   "id": "1b2f3770",
   "metadata": {},
   "outputs": [],
   "source": [
    "Xtrain,Xtest,Ytrain,Ytest=train_test_split(X,Y,test_size=0.2)\n"
   ]
  },
  {
   "cell_type": "code",
   "execution_count": 40,
   "id": "a58ec62f",
   "metadata": {},
   "outputs": [],
   "source": [
    "from sklearn.multiclass import OneVsRestClassifier\n",
    "from sklearn.linear_model import LogisticRegression"
   ]
  },
  {
   "cell_type": "code",
   "execution_count": 41,
   "id": "0a85621b",
   "metadata": {},
   "outputs": [],
   "source": [
    "model=LogisticRegression(solver='lbfgs')\n"
   ]
  },
  {
   "cell_type": "code",
   "execution_count": 42,
   "id": "d67def89",
   "metadata": {},
   "outputs": [],
   "source": [
    "model=OneVsRestClassifier(model)\n"
   ]
  },
  {
   "cell_type": "code",
   "execution_count": 43,
   "id": "efc27dfa",
   "metadata": {},
   "outputs": [
    {
     "data": {
      "text/plain": [
       "OneVsRestClassifier(estimator=LogisticRegression())"
      ]
     },
     "execution_count": 43,
     "metadata": {},
     "output_type": "execute_result"
    }
   ],
   "source": [
    "model.fit(Xtrain,Ytrain)\n"
   ]
  },
  {
   "cell_type": "code",
   "execution_count": 44,
   "id": "b80ab087",
   "metadata": {},
   "outputs": [],
   "source": [
    "Ypred=model.predict(Xtest)\n"
   ]
  },
  {
   "cell_type": "code",
   "execution_count": 45,
   "id": "e2ca0e9e",
   "metadata": {},
   "outputs": [],
   "source": [
    "Ypred_inversed = binarizer.inverse_transform(Ypred)\n",
    "y_test_inversed = binarizer.inverse_transform(Ytest)"
   ]
  },
  {
   "cell_type": "code",
   "execution_count": 46,
   "id": "be052e65",
   "metadata": {},
   "outputs": [
    {
     "name": "stdout",
     "output_type": "stream",
     "text": [
      "Text:\t  (0, 203034)\t1\n",
      "  (0, 396052)\t1\n",
      "  (0, 312628)\t1\n",
      "  (0, 22273)\t1\n",
      "  (0, 319058)\t1\n",
      "  (0, 52528)\t1\n",
      "  (0, 528429)\t1\n",
      "  (0, 420587)\t1\n",
      "  (0, 450189)\t1\n",
      "  (0, 131554)\t1\n",
      "  (0, 139077)\t1\n",
      "  (0, 477858)\t1\n",
      "  (0, 529247)\t1\n",
      "  (0, 215738)\t1\n",
      "  (0, 334172)\t1\n",
      "  (0, 567161)\t1\n",
      "  (0, 13357)\t1\n",
      "  (0, 229515)\t1\n",
      "  (0, 332005)\t1\n",
      "  (0, 461980)\t1\n",
      "  (0, 403052)\t1\n",
      "  (0, 222683)\t1\n",
      "  (0, 51214)\t1\n",
      "  (0, 611860)\t1\n",
      "  (0, 586020)\t1\n",
      "  :\t:\n",
      "  (0, 182033)\t1\n",
      "  (0, 458651)\t1\n",
      "  (0, 362964)\t1\n",
      "  (0, 373545)\t1\n",
      "  (0, 284149)\t1\n",
      "  (0, 338770)\t1\n",
      "  (0, 50877)\t1\n",
      "  (0, 503598)\t1\n",
      "  (0, 215261)\t1\n",
      "  (0, 13477)\t1\n",
      "  (0, 282460)\t1\n",
      "  (0, 50718)\t1\n",
      "  (0, 331255)\t1\n",
      "  (0, 392444)\t1\n",
      "  (0, 576338)\t1\n",
      "  (0, 586046)\t1\n",
      "  (0, 22004)\t1\n",
      "  (0, 94801)\t1\n",
      "  (0, 458572)\t1\n",
      "  (0, 452638)\t1\n",
      "  (0, 88767)\t1\n",
      "  (0, 210987)\t1\n",
      "  (0, 274241)\t1\n",
      "  (0, 507386)\t1\n",
      "  (0, 104468)\t1\n",
      "True labels:\t27,Pisces,Technology,male\n",
      "Predicted labels:\t27,Pisces,male\n",
      "\n",
      "\n",
      "Text:\t  (0, 593438)\t1\n",
      "  (0, 541965)\t1\n",
      "  (0, 334172)\t1\n",
      "  (0, 567161)\t1\n",
      "  (0, 611860)\t1\n",
      "  (0, 586020)\t1\n",
      "  (0, 194964)\t1\n",
      "  (0, 326192)\t1\n",
      "  (0, 491585)\t1\n",
      "  (0, 192374)\t1\n",
      "  (0, 215891)\t1\n",
      "  (0, 31409)\t1\n",
      "  (0, 47563)\t1\n",
      "  (0, 359254)\t1\n",
      "  (0, 456976)\t1\n",
      "  (0, 306682)\t1\n",
      "  (0, 266443)\t1\n",
      "  (0, 80445)\t1\n",
      "  (0, 363386)\t1\n",
      "  (0, 419632)\t1\n",
      "  (0, 341960)\t1\n",
      "  (0, 496846)\t1\n",
      "  (0, 308748)\t1\n",
      "  (0, 173148)\t1\n",
      "  (0, 276816)\t1\n",
      "  :\t:\n",
      "  (0, 307020)\t1\n",
      "  (0, 371722)\t1\n",
      "  (0, 623258)\t1\n",
      "  (0, 536497)\t1\n",
      "  (0, 158091)\t1\n",
      "  (0, 406942)\t1\n",
      "  (0, 192663)\t1\n",
      "  (0, 490045)\t1\n",
      "  (0, 142207)\t1\n",
      "  (0, 590826)\t1\n",
      "  (0, 457012)\t1\n",
      "  (0, 406950)\t1\n",
      "  (0, 397799)\t1\n",
      "  (0, 541215)\t1\n",
      "  (0, 129578)\t1\n",
      "  (0, 414846)\t1\n",
      "  (0, 34490)\t1\n",
      "  (0, 216008)\t1\n",
      "  (0, 40564)\t1\n",
      "  (0, 60264)\t1\n",
      "  (0, 561162)\t1\n",
      "  (0, 486381)\t1\n",
      "  (0, 496931)\t1\n",
      "  (0, 211501)\t1\n",
      "  (0, 298652)\t1\n",
      "True labels:\t34,Sagittarius,female,indUnk\n",
      "Predicted labels:\t34,Sagittarius,female,indUnk\n",
      "\n",
      "\n",
      "Text:\t  (0, 555609)\t1\n",
      "  (0, 59616)\t1\n",
      "  (0, 462538)\t1\n",
      "  (0, 341960)\t1\n",
      "  (0, 272422)\t1\n",
      "  (0, 276924)\t1\n",
      "  (0, 447643)\t1\n",
      "  (0, 235189)\t1\n",
      "  (0, 559897)\t1\n",
      "  (0, 454631)\t1\n",
      "  (0, 564134)\t1\n",
      "  (0, 342270)\t1\n",
      "  (0, 272522)\t1\n",
      "  (0, 3509)\t1\n",
      "  (0, 461820)\t1\n",
      "  (0, 122178)\t1\n",
      "  (0, 273175)\t1\n",
      "  (0, 25080)\t1\n",
      "  (0, 137683)\t1\n",
      "  (0, 511384)\t1\n",
      "  (0, 231444)\t1\n",
      "  (0, 359181)\t1\n",
      "  (0, 280009)\t1\n",
      "  (0, 564137)\t1\n",
      "  (0, 3541)\t1\n",
      "  (0, 342379)\t1\n",
      "  (0, 462619)\t1\n",
      "  (0, 511388)\t1\n",
      "  (0, 273190)\t1\n",
      "  (0, 277164)\t1\n",
      "  (0, 448137)\t1\n",
      "  (0, 511389)\t1\n",
      "  (0, 359182)\t1\n",
      "  (0, 280012)\t1\n",
      "  (0, 122182)\t1\n",
      "  (0, 25134)\t1\n",
      "  (0, 555633)\t1\n",
      "  (0, 448175)\t1\n",
      "  (0, 560591)\t1\n",
      "  (0, 272436)\t1\n",
      "  (0, 137704)\t1\n",
      "  (0, 461827)\t1\n",
      "  (0, 277169)\t1\n",
      "  (0, 454646)\t1\n",
      "  (0, 231446)\t1\n",
      "  (0, 59729)\t1\n",
      "  (0, 235339)\t1\n",
      "  (0, 272526)\t1\n",
      "True labels:\t35,Aries,Technology,male\n",
      "Predicted labels:\t35,Aries,Technology,male\n",
      "\n",
      "\n",
      "Text:\t  (0, 593438)\t1\n",
      "  (0, 68242)\t1\n",
      "  (0, 595528)\t1\n",
      "  (0, 357772)\t1\n",
      "  (0, 125092)\t1\n",
      "  (0, 593675)\t1\n",
      "  (0, 471350)\t1\n",
      "  (0, 471353)\t1\n",
      "  (0, 593888)\t1\n",
      "  (0, 125114)\t1\n",
      "  (0, 68376)\t1\n",
      "True labels:\t27,Taurus,female,indUnk\n",
      "Predicted labels:\tAries,female\n",
      "\n",
      "\n",
      "Text:\t  (0, 593438)\t1\n",
      "  (0, 52528)\t1\n",
      "  (0, 450189)\t1\n",
      "  (0, 218079)\t1\n",
      "  (0, 469055)\t1\n",
      "  (0, 442891)\t1\n",
      "  (0, 37799)\t1\n",
      "  (0, 225428)\t1\n",
      "  (0, 115987)\t1\n",
      "  (0, 127378)\t1\n",
      "  (0, 431617)\t1\n",
      "  (0, 377192)\t1\n",
      "  (0, 163272)\t1\n",
      "  (0, 486771)\t1\n",
      "  (0, 378712)\t1\n",
      "  (0, 301058)\t1\n",
      "  (0, 614719)\t1\n",
      "  (0, 489317)\t1\n",
      "  (0, 100576)\t1\n",
      "  (0, 353899)\t1\n",
      "  (0, 386746)\t1\n",
      "  (0, 35863)\t1\n",
      "  (0, 565798)\t1\n",
      "  (0, 97699)\t1\n",
      "  (0, 629805)\t1\n",
      "  :\t:\n",
      "  (0, 116094)\t1\n",
      "  (0, 207328)\t1\n",
      "  (0, 486858)\t1\n",
      "  (0, 53618)\t1\n",
      "  (0, 378798)\t1\n",
      "  (0, 52797)\t1\n",
      "  (0, 307630)\t1\n",
      "  (0, 595166)\t1\n",
      "  (0, 482763)\t1\n",
      "  (0, 469124)\t1\n",
      "  (0, 629822)\t1\n",
      "  (0, 125912)\t1\n",
      "  (0, 37912)\t1\n",
      "  (0, 53621)\t1\n",
      "  (0, 128208)\t1\n",
      "  (0, 384682)\t1\n",
      "  (0, 614840)\t1\n",
      "  (0, 100596)\t1\n",
      "  (0, 489340)\t1\n",
      "  (0, 431808)\t1\n",
      "  (0, 365487)\t1\n",
      "  (0, 386924)\t1\n",
      "  (0, 443141)\t1\n",
      "  (0, 365484)\t1\n",
      "  (0, 125921)\t1\n",
      "True labels:\t38,Internet,Sagittarius,female\n",
      "Predicted labels:\t27,female,indUnk\n",
      "\n",
      "\n"
     ]
    }
   ],
   "source": [
    "for i in range(5):\n",
    "    print('Text:\\t{}\\nTrue labels:\\t{}\\nPredicted labels:\\t{}\\n\\n'.format(\n",
    "        Xtest[i],\n",
    "        ','.join(y_test_inversed[i]),\n",
    "        ','.join(Ypred_inversed[i])\n",
    "    ))"
   ]
  },
  {
   "cell_type": "code",
   "execution_count": 47,
   "id": "666e8220",
   "metadata": {},
   "outputs": [],
   "source": [
    "from sklearn.metrics import accuracy_score\n",
    "from sklearn.metrics import f1_score\n",
    "from sklearn.metrics import average_precision_score\n",
    "from sklearn.metrics import recall_score\n",
    "\n",
    "def print_evaluation_scores(Ytest, Ypred):\n",
    "    print('Accuracy score: ', accuracy_score(Ytest, Ypred))\n",
    "    print('F1 score: ', f1_score(Ytest, Ypred, average='micro'))\n",
    "    print('Average precision score: ', average_precision_score(Ytest, Ypred, average='micro'))\n",
    "    print('Average recall score: ', recall_score(Ytest, Ypred, average='micro'))"
   ]
  },
  {
   "cell_type": "code",
   "execution_count": 48,
   "id": "b142f1f1",
   "metadata": {},
   "outputs": [
    {
     "name": "stdout",
     "output_type": "stream",
     "text": [
      "Accuracy score:  0.327\n",
      "F1 score:  0.6479783556290395\n",
      "Average precision score:  0.4666435550555974\n",
      "Average recall score:  0.538875\n"
     ]
    }
   ],
   "source": [
    "print_evaluation_scores(Ytest, Ypred)"
   ]
  },
  {
   "cell_type": "markdown",
   "id": "7880180b",
   "metadata": {},
   "source": [
    "Part 2"
   ]
  },
  {
   "cell_type": "code",
   "execution_count": 1,
   "id": "9c649cf0",
   "metadata": {},
   "outputs": [
    {
     "name": "stderr",
     "output_type": "stream",
     "text": [
      "C:\\Users\\Admin\\anaconda3\\lib\\site-packages\\numpy\\_distributor_init.py:30: UserWarning: loaded more than 1 DLL from .libs:\n",
      "C:\\Users\\Admin\\anaconda3\\lib\\site-packages\\numpy\\.libs\\libopenblas.PYQHXLVVQ7VESDPUVUADXEVJOBGHJPAY.gfortran-win_amd64.dll\n",
      "C:\\Users\\Admin\\anaconda3\\lib\\site-packages\\numpy\\.libs\\libopenblas.WCDJNK7YVMPZQ2ME2ZZHJJRJ3JIKNDB7.gfortran-win_amd64.dll\n",
      "  warnings.warn(\"loaded more than 1 DLL from .libs:\\n%s\" %\n"
     ]
    }
   ],
   "source": [
    "import io\n",
    "import random\n",
    "import string\n",
    "import warnings\n",
    "import numpy as np\n",
    "from sklearn.feature_extraction.text import TfidfVectorizer\n",
    "from sklearn.metrics.pairwise import cosine_similarity\n",
    "import warnings\n",
    "warnings.filterwarnings('ignore')"
   ]
  },
  {
   "cell_type": "code",
   "execution_count": 2,
   "id": "06ff3447",
   "metadata": {},
   "outputs": [
    {
     "data": {
      "text/plain": [
       "True"
      ]
     },
     "execution_count": 2,
     "metadata": {},
     "output_type": "execute_result"
    }
   ],
   "source": [
    "import nltk\n",
    "from nltk.stem import WordNetLemmatizer\n",
    "nltk.download('popular', quiet=True)"
   ]
  },
  {
   "cell_type": "code",
   "execution_count": 3,
   "id": "7ae6c998",
   "metadata": {},
   "outputs": [],
   "source": [
    "import json\n",
    "f = open('GL Bot.json')\n",
    "json_file = json.load(f)"
   ]
  },
  {
   "cell_type": "code",
   "execution_count": 4,
   "id": "a644f75f",
   "metadata": {},
   "outputs": [],
   "source": [
    "raw=f.read()\n",
    "raw = raw.lower()"
   ]
  },
  {
   "cell_type": "code",
   "execution_count": 5,
   "id": "3154a39e",
   "metadata": {},
   "outputs": [],
   "source": [
    "sent_tokens = nltk.sent_tokenize(raw)\n",
    "word_tokens = nltk.word_tokenize(raw)"
   ]
  },
  {
   "cell_type": "code",
   "execution_count": 6,
   "id": "088e25d9",
   "metadata": {},
   "outputs": [],
   "source": [
    "lemmer = nltk.stem.WordNetLemmatizer()\n",
    "def LemTokens(tokens):\n",
    "    return [lemmer.lemmatize(token) for token in tokens]\n",
    "remove_punct_dict = dict((ord(punct), None) for punct in string.punctuation)\n",
    "def LemNormalize(text):\n",
    "    return LemTokens(nltk.word_tokenize(text.lower().translate(remove_punct_dict)))"
   ]
  },
  {
   "cell_type": "code",
   "execution_count": 7,
   "id": "8bd28b72",
   "metadata": {},
   "outputs": [],
   "source": [
    "GREETING_INPUTS = (\"hi\", \n",
    "                      \"how are you\", \n",
    "                      \"is anyone there\", \n",
    "                      \"hello\", \n",
    "                      \"whats up\",\n",
    "                      \"hey\",\n",
    "                      \"yo\",\n",
    "                      \"listen\", \n",
    "                      \"please help me\",\n",
    "                      \"i am learner from\",\n",
    "                      \"i belong to\",\n",
    "                      \"aiml batch\",\n",
    "                      \"aifl batch\",\n",
    "                      \"i am from\",\n",
    "                      \"my pm is\",\n",
    "                      \"blended\",\n",
    "                      \"online\",\n",
    "                      \"i am from\",\n",
    "                      \"hey ya\",\n",
    "                      \"talking to you for first time\")\n",
    "GREETING_RESPONSES = [\"Hello! how can i help you ?\"]\n",
    "def greeting(sentence):\n",
    " \n",
    "    for word in sentence.split():\n",
    "        if word.lower() in GREETING_INPUTS:\n",
    "            return random.choice(GREETING_RESPONSES)"
   ]
  },
  {
   "cell_type": "code",
   "execution_count": 8,
   "id": "6b6e49a3",
   "metadata": {},
   "outputs": [],
   "source": [
    "def response(user_response):\n",
    "    SAI_response=''\n",
    "    sent_tokens.append(user_response)\n",
    "    TfidfVec = TfidfVectorizer(tokenizer=LemNormalize, stop_words='english')\n",
    "    tfidf = TfidfVec.fit_transform(sent_tokens)\n",
    "    vals = cosine_similarity(tfidf[-2], tfidf)\n",
    "    idx=vals.argsort()[0][-2]\n",
    "    flat = vals.flatten()\n",
    "    flat.sort()\n",
    "    req_tfidf = flat[-2]\n",
    "    if(req_tfidf==0):\n",
    "        SAI_response=SAI_response+\"I am sorry! I don't understand you\"\n",
    "        return SAI_response\n",
    "    else:\n",
    "        SAI_response = SAI_response+sent_tokens[idx]\n",
    "        return SAI_response"
   ]
  },
  {
   "cell_type": "code",
   "execution_count": 9,
   "id": "08221ce6",
   "metadata": {},
   "outputs": [
    {
     "name": "stdout",
     "output_type": "stream",
     "text": [
      "SAI: My name is SAI. I will answer your queries about AI. If you want to exit, type Bye!\n",
      "hi\n",
      "SAI: Hello! how can i help you ?\n",
      "bye\n",
      "SAI: Bye! take care..\n"
     ]
    }
   ],
   "source": [
    "flag=True\n",
    "print(\"SAI: My name is SAI. I will answer your queries about AI. If you want to exit, type Bye!\")\n",
    "while(flag==True):\n",
    "    user_response = input()\n",
    "    user_response=user_response.lower()\n",
    "    if(user_response!='bye'):\n",
    "        if(user_response=='thanks' or user_response=='thank you' ):\n",
    "            flag=False\n",
    "            print(\"SAI: You are welcome..\")\n",
    "        else:\n",
    "            if(greeting(user_response)!=None):\n",
    "                print(\"SAI: \"+greeting(user_response))\n",
    "            else:\n",
    "                print(\"SAI: \",end=\"\")\n",
    "                print(response(user_response))\n",
    "                sent_tokens.remove(user_response)\n",
    "    else:\n",
    "        flag=False\n",
    "        print(\"SAI: Bye! take care..\")"
   ]
  }
 ],
 "metadata": {
  "kernelspec": {
   "display_name": "Python 3",
   "language": "python",
   "name": "python3"
  },
  "language_info": {
   "codemirror_mode": {
    "name": "ipython",
    "version": 3
   },
   "file_extension": ".py",
   "mimetype": "text/x-python",
   "name": "python",
   "nbconvert_exporter": "python",
   "pygments_lexer": "ipython3",
   "version": "3.8.8"
  }
 },
 "nbformat": 4,
 "nbformat_minor": 5
}
